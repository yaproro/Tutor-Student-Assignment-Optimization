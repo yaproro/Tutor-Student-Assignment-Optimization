{
 "cells": [
  {
   "cell_type": "code",
   "execution_count": 1,
   "id": "52e5b19e-91e8-4c2d-a366-b62a2ac782f7",
   "metadata": {},
   "outputs": [],
   "source": [
    "import sys\n",
    "import cplex\n",
    "import docplex.mp\n",
    "import pandas as pd\n",
    "from docplex.mp.model import Model"
   ]
  },
  {
   "cell_type": "code",
   "execution_count": 2,
   "id": "b3443f37-f3ba-4208-9c8d-ed76be530145",
   "metadata": {},
   "outputs": [],
   "source": [
    "debug_mode = False #Toggle if you wish to view model variables, constraints and objective"
   ]
  },
  {
   "cell_type": "code",
   "execution_count": 3,
   "id": "3ca685bf-6a89-4cba-b85d-77974fd70df6",
   "metadata": {},
   "outputs": [],
   "source": [
    "#Set up classes to hold information regarding new students, exisiting students and tutor\n",
    "class NewStudent():\n",
    "\tdef __init__(self, studentid, needs, tuitioncentre):\n",
    "\t\tself.studentid = studentid\n",
    "\t\tself.needs = needs\n",
    "\t\tself.tuitioncentre = tuitioncentre\n",
    "\n",
    "\tdef __str__(self):\n",
    "\t\treturn f\"New student with id: {self.studentid} and needs: {self.needs} at tution center: {self.tuitioncentre}\"\n",
    "\n",
    "class ExistingStudent():\n",
    "\tdef __init__(self, studentid, needs, tuitioncentre, tutorid):\n",
    "\t\tself.studentid = studentid\n",
    "\t\tself.needs = needs\n",
    "\t\tself.tuitioncentre = tuitioncentre\n",
    "\t\tself.tutorid = tutorid\n",
    "\n",
    "\tdef __str__(self):\n",
    "\t\treturn f\"Exisiting student with id: {self.studentid} and needs: {self.needs} at tution center: {self.tuitioncentre} assgined to tutor: {self.tutorid}\"\n",
    "\n",
    "class Tutor():\n",
    "\tdef __init__(self, tutorid, skills, prefcenter1, prefcenter2, capacity):\n",
    "\t\tself.tutorid = tutorid\n",
    "\t\tself.skills = skills\n",
    "\t\tself.prefcenter1 = prefcenter1\n",
    "\t\tself.prefcenter2 = prefcenter2\n",
    "\t\tself.capacity = capacity \n",
    "\n",
    "\tdef __str__(self):\n",
    "\t\treturn f\"Tutor with id: {self.tutorid} and skills: {self.skills}, prefer teaching at: {self.prefcenter1} and {self.prefcenter2} with capacity: {self.capacity}\""
   ]
  },
  {
   "cell_type": "code",
   "execution_count": 4,
   "id": "3ff7a021-f823-4212-8b32-9fb20b894514",
   "metadata": {},
   "outputs": [
    {
     "name": "stdin",
     "output_type": "stream",
     "text": [
      "Enter the path to the Excel data file:  C:\\Users\\Roro\\Desktop\\Student Tutor Data.xlsx\n"
     ]
    }
   ],
   "source": [
    "#------------\n",
    "#Import data \n",
    "#------------\n",
    "\n",
    "#Get data file path from user input then try to read the file\n",
    "#Terminate program if file not found or there were issues reading file \n",
    "data_path = input(\"Enter the path to the Excel data file: \")\n",
    "\n",
    "try:\n",
    "\tsheets = pd.read_excel(data_path, sheet_name=None)\n",
    "except FileNotFoundError:\n",
    "    print(f\"Error: File at {data_path} not found.\")\n",
    "    sys.exit(1)\n",
    "except Exception as e:\n",
    "    print(f\"Error: {e} when reading excel file.\")\n",
    "    sys.exit(1)"
   ]
  },
  {
   "cell_type": "code",
   "execution_count": 5,
   "id": "c660e1c3-7620-43b6-a2b0-e7463624aea9",
   "metadata": {},
   "outputs": [],
   "source": [
    "#Assumes excel workbook contains three sheets \"New Students\", \"Tutor Information\" and \"Existing Students\". If not, exit.\n",
    "for req_sheet in [\"New Students\", \"Tutor Information\", \"Existing Students\"]:\n",
    "    if req_sheet not in sheets:\n",
    "        print(f\"Error: Missing '{req_sheet}' sheet in Excel workbook.\")\n",
    "        sys.exit(1)\n",
    "\n",
    "#Extract data from the three sheets required\n",
    "new_students_df = sheets[\"New Students\"]\n",
    "existing_students_df = sheets[\"Existing Students\"]\n",
    "tutors_df = sheets[\"Tutor Information\"] "
   ]
  },
  {
   "cell_type": "code",
   "execution_count": 6,
   "id": "fe216ae5-82f6-46fc-9241-11b60da5e475",
   "metadata": {},
   "outputs": [],
   "source": [
    "#-----------------\n",
    "#Populate the data\n",
    "#-----------------\n",
    "\n",
    "new_students = []\n",
    "existing_students = []\n",
    "tutors = []\n",
    "\n",
    "#Checks each sheet for their required columns. If any column missing, exit. \n",
    "for req_column in [\"studentId\", \"tutoringNeed\", \"tuitionCentre\"]:\n",
    "\tif req_column not in new_students_df.columns: \n",
    "\t\tprint(f\"Error: Missing required column '{req_column}' in 'New Students' sheet.\")\n",
    "\t\tsys.exit(1) \n",
    "\n",
    "for req_column in [\"studentId\", \"tutoringNeed\", \"tuitionCentre\", \"tutorId\"]:\n",
    "\tif req_column not in existing_students_df.columns: \n",
    "\t\tprint(f\"Error: Missing required column '{req_column}' in 'Existing Students' sheet.\")\n",
    "\t\tsys.exit(1) \n",
    "\n",
    "for req_column in [\"tutorId\", \"tutoringSkills\", \"preferredCentre1\", \"preferredCentre2\", \"maxOverallCapacity\"]:\n",
    "\tif req_column not in tutors_df.columns: \n",
    "\t\tprint(f\"Error: Missing required column '{req_column}' in 'Tutor Information' sheet.\")\n",
    "\t\tsys.exit(1) "
   ]
  },
  {
   "cell_type": "code",
   "execution_count": 7,
   "id": "b456a511-432e-4290-8289-aa055128a2e7",
   "metadata": {},
   "outputs": [],
   "source": [
    "#For each sheet, iterate the rows and extract data of each new student, active exisiting student and tutors\n",
    "for _, row in new_students_df.iterrows():\n",
    "\tnew_students.append(NewStudent(row[\"studentId\"], row[\"tutoringNeed\"], row[\"tuitionCentre\"]))\n",
    "\n",
    "for _, row in existing_students_df.iterrows():\n",
    "\tif row[\"active\"] :\n",
    "\t\texisting_students.append(ExistingStudent(row[\"studentId\"], row[\"tutoringNeed\"], row[\"tuitionCentre\"], row[\"tutorId\"]))\n",
    "\n",
    "for _, row in tutors_df.iterrows():\n",
    "\ttutors.append(Tutor(row[\"tutorId\"], row[\"tutoringSkills\"], row[\"preferredCentre1\"], row[\"preferredCentre2\"], row[\"maxOverallCapacity\"]))\n"
   ]
  },
  {
   "cell_type": "code",
   "execution_count": 8,
   "id": "4c326462-df5f-4564-ad67-c989956a6277",
   "metadata": {},
   "outputs": [
    {
     "name": "stdout",
     "output_type": "stream",
     "text": [
      "Data loaded consist of 20 new students, 12 active existing students and 10 tutors.\n"
     ]
    }
   ],
   "source": [
    "#For sanity check of what data got loaded\n",
    "print(f\"Data loaded consist of {len(new_students)} new students, {len(existing_students)} active existing students and {len(tutors)} tutors.\")"
   ]
  },
  {
   "cell_type": "code",
   "execution_count": 9,
   "id": "fcdbcc83-2fd1-4b78-a8a8-adcf31ccf796",
   "metadata": {},
   "outputs": [],
   "source": [
    "#Creating the model \n",
    "m = Model(name='tutor_allocation')"
   ]
  },
  {
   "cell_type": "code",
   "execution_count": 10,
   "id": "79de0abe-efc8-43e5-b44a-ee8ee6f054c0",
   "metadata": {},
   "outputs": [],
   "source": [
    "#-----------------\n",
    "#Define variables\n",
    "#-----------------\n",
    "\n",
    "#Define the decision variables\n",
    "#xij is a binary var, it is 1 if and only if student i is assigned to tutor j  \n",
    "x = {(i.studentid, j.tutorid): m.binary_var(name=f\"x_{i.studentid}_{j.tutorid}\") for i in new_students for j in tutors}\n",
    "\n",
    "#Define the helper variables \n",
    "#yj is a binary var, it is 1 if and only if tutor j is assigned at least one student \n",
    "y = {j.tutorid: m.binary_var(name=f\"y_{j.tutorid}\") for j in tutors}\n",
    "#wj represents the workload of the tutor. It is an integer var with value the number of students assigned to the tutor \n",
    "w = {j.tutorid: m.integer_var(name=f\"w_{j.tutorid}\") for j in tutors}\n",
    "#U and L are integer variables that represent the upper and lowerbounds of all assigned tutor's workload \n",
    "U = m.integer_var(name=\"workload_upperbound\") \n",
    "L = m.integer_var(name=\"workload_lowerbound\") \n",
    "\n",
    "#Set upperbound for interger var, U and L.\n",
    "#Since we will be minimizing U - L, U and L should not take on a value more than the max capacity across all tutors \n",
    "#Did not reduce L's upperbound further as it is not necessarily that all tutors are selected \n",
    "maxcapacity = max(j.capacity for j in tutors)\n",
    "U.ub = maxcapacity\n",
    "L.ub = maxcapacity "
   ]
  },
  {
   "cell_type": "code",
   "execution_count": 11,
   "id": "43ffdec0-867f-41d9-b9f8-9c42b887c27b",
   "metadata": {},
   "outputs": [],
   "source": [
    "#-------------------\n",
    "#Define constraints \n",
    "#-------------------\n",
    "\n",
    "#1) Ensure every student only has one tutor \n",
    "#2) Ensure every student's extensive tutoring needs are met \n",
    "for i in new_students:\n",
    "\tif i.needs == \"Extensive\":\n",
    "\t\t#Ensure student with extensive needs has to be assigned exactly one tutor with extensive skills\n",
    "\t\tm.add_constraint(sum(x[i.studentid, j.tutorid] for j in tutors if j.skills == \"Extensive\") == 1) \n",
    "\t\tfor j in tutors:\n",
    "\t\t\tif j.skills != \"Extensive\":\n",
    "\t\t\t\t#Ensure student with extensive needs will not be assign a tutor that doesnt have extensive skills\n",
    "\t\t\t\tx[i.studentid, j.tutorid].ub = 0  \n",
    "\telse:\n",
    "\t\t#For other students with normal needs, they can be assigned any tutor and exactly one tutor\n",
    "\t\tm.add_constraint(sum(x[i.studentid, j.tutorid] for j in tutors) == 1)\n",
    "\n",
    "#3) Ensure tutors are not assigned students beyond their maximum capacity \n",
    "#4) Ensure helper variable y is correctly set, if its 0 the tutor cannot be assigned any student, if its 1 the tutor has to respect its max capacity \n",
    "# Set lowerbound for binary var, yj. If there is exisiting student, the tutor is used  \n",
    "# Set upperbound for integer var, wj. The workload shouldnt exceed capacity \n",
    "#5) Ensure helper variable w value is correctly set and takes into account exisiting students \n",
    "#6) Ensure helper variable U is upperbound across all tutor workload \n",
    "#7) Ensure helper variable L is lowerbound across all tutor workload \n",
    "for j in tutors:\n",
    "\texistingworkload = sum(1 for i in existing_students if i.tutorid == j.tutorid)\n",
    "\t#(j.capacity - existingworkload) is the remaining number of students we can assign to a tutor \n",
    "\tm.add_constraint(sum(x[i.studentid, j.tutorid] for i in new_students) <= (j.capacity - existingworkload)*y[j.tutorid] ) #Constaint 3 and 4\n",
    "\tif existingworkload > 0:\n",
    "\t\t#If tutor has exisiting student, he is already \"assigned\"\n",
    "\t\ty[j.tutorid].lb = 1   \n",
    "\n",
    "\t#Since wj are integer variables, just to set an upperbound on their values to reduce search space \n",
    "\tw[j.tutorid].ub = j.capacity  \n",
    "\t#wj represents the number of students assigned to tutor j, it should be the sum over all students xij and the existing workload\n",
    "\tm.add_constraint(sum(x[i.studentid, j.tutorid] for i in new_students) + existingworkload == w[j.tutorid] ) #Constraint 5\n",
    "\n",
    "\t#We want U and L to be the upperbound and lowerbound of all assigned tutor's workload \n",
    "\t#If a tutor is not assigned (yj=0 and wj=0), the value of U and L should not be affected by these equations too \n",
    "\t#For constraint 6, if yj = 0, wj = 0 <= U, this constraint doesnt affect the value of U  \n",
    "\t#For constraint 7, if yj = 1, we get wj >= L as intended. \n",
    "\t#                  if yj = 0, we get wj = 0 >= L - (max capacity) and thus (max capcity) >= L, this constraint doesnt affect the value of L\n",
    "\tm.add_constraint( w[j.tutorid] <= U ) #Constraint 6\n",
    "\tm.add_constraint( w[j.tutorid] >= L - (maxcapacity)*(1-y[j.tutorid]) ) #Constraint 7"
   ]
  },
  {
   "attachments": {},
   "cell_type": "markdown",
   "id": "9e30cec1-93df-4ceb-9e60-0aa6474ff300",
   "metadata": {},
   "source": [
    "Scenario #1 : Minimize total number of tutors assigned while maximizing tutor’s preference on tuition centre. "
   ]
  },
  {
   "cell_type": "code",
   "execution_count": 12,
   "id": "68513407-0b67-4163-b28d-e28d19ad694d",
   "metadata": {},
   "outputs": [],
   "source": [
    "#-----------------\n",
    "#Define objective\n",
    "#-----------------\n",
    "\n",
    "c1 = 0   #Penalty for not balancing workload\n",
    "c2 = 5    #Penalty for each tutor used \n",
    "c3 = 3    #Penalty for not giving tutors any preferred location \n",
    "c4 = 1    #Penalty for not giving tutors 1st preferred location "
   ]
  },
  {
   "cell_type": "code",
   "execution_count": 13,
   "id": "b24e8799-0191-4f19-9830-1959a91a25cc",
   "metadata": {},
   "outputs": [],
   "source": [
    "#Want to minimize total sum of yj which corresponds to the number of tutors assigned\n",
    "tutors_used = sum(y[j.tutorid] for j in tutors)  \n",
    "\n",
    "not_preferred_location_terms = []\n",
    "second_choice_location_terms = []\n",
    "for j in tutors:\n",
    "\tfor i in new_students:   \n",
    "\t\tif i.tuitioncentre not in [j.prefcenter1, j.prefcenter2]:\n",
    "\t\t\t#Want to minimize total sum of xij where student i goes to tuition centre that is not in tutor j's preference\n",
    "\t\t\t#which corresponds to minimizing assigning a student from a tuition centre outside tutor's preference\n",
    "\t\t\tnot_preferred_location_terms.append(x[i.studentid, j.tutorid]) \n",
    "\t\telif i.tuitioncentre == j.prefcenter2:\n",
    "\t\t\t#Similarly, there is a smaller penalty if a tutor is assigned a student from a tuition centre that is their second choice\n",
    "\t\t\t#Only no penalty given for student assignment from a tuition centre that is their first choice\n",
    "\t\t\tsecond_choice_location_terms.append(x[i.studentid, j.tutorid]) \n",
    "\n",
    "#Minimizing the first term (U-L) is to balance workload among tutors assigned\n",
    "m.minimize( c1*(U-L) + c2*tutors_used + c3*(m.sum(not_preferred_location_terms)) + c4*(m.sum(second_choice_location_terms)))"
   ]
  },
  {
   "cell_type": "code",
   "execution_count": 14,
   "id": "8ff99bd5-c3cf-4601-9e1c-ca39fbc8df92",
   "metadata": {},
   "outputs": [],
   "source": [
    "#----------------------\n",
    "#For debugging purposes\n",
    "#----------------------\n",
    "\n",
    "if debug_mode: \n",
    "\tm.print_information() \n",
    "\tprint(m.objective_expr)               #To check each of the objective's terms \n",
    "\tfor ct in m.iter_constraints():\n",
    "\t\tprint(ct)                         #To check every constraint  \n",
    "\tfor var in m.iter_variables():\n",
    "\t\tprint(var.name, var.lb, var.ub)   #To check every variable's upper and lower bound "
   ]
  },
  {
   "cell_type": "code",
   "execution_count": 15,
   "id": "c14da259-bd44-4f45-80df-de940d740ff2",
   "metadata": {},
   "outputs": [
    {
     "name": "stdout",
     "output_type": "stream",
     "text": [
      "objective: 33\n",
      "status: OPTIMAL_SOLUTION(2)\n",
      "  x_S0001_A002=1\n",
      "  x_S0002_A010=1\n",
      "  x_S0003_A005=1\n",
      "  x_S0004_A007=1\n",
      "  x_S0005_A009=1\n",
      "  x_S0006_A009=1\n",
      "  x_S0007_A007=1\n",
      "  x_S0008_A009=1\n",
      "  x_S0009_A005=1\n",
      "  x_S0010_A003=1\n",
      "  x_S0011_A009=1\n",
      "  x_S0012_A003=1\n",
      "  x_S0013_A010=1\n",
      "  x_S0014_A002=1\n",
      "  x_S0015_A007=1\n",
      "  x_S0016_A002=1\n",
      "  x_S0017_A002=1\n",
      "  x_S0018_A003=1\n",
      "  x_S0019_A003=1\n",
      "  x_S0020_A002=1\n",
      "  y_A002=1\n",
      "  y_A003=1\n",
      "  y_A005=1\n",
      "  y_A007=1\n",
      "  y_A009=1\n",
      "  y_A010=1\n",
      "  w_A002=5\n",
      "  w_A003=5\n",
      "  w_A005=6\n",
      "  w_A007=8\n",
      "  w_A009=4\n",
      "  w_A010=4\n",
      "  workload_upperbound=8\n"
     ]
    }
   ],
   "source": [
    "s = m.solve() \n",
    "m.print_solution()"
   ]
  },
  {
   "cell_type": "code",
   "execution_count": 16,
   "id": "7eb3ce2d-ce8d-46fe-a8e8-ba4ad5d9c6cc",
   "metadata": {},
   "outputs": [
    {
     "name": "stdout",
     "output_type": "stream",
     "text": [
      "-------------------------------------------------------------\n",
      "Objective breakdown:\n",
      "Total penalty: 33.0\n",
      "Balancing workload : weight = 0, U = 8, L = 0. Total = 0\n",
      "Tutors used : weight = 5, tutors used = 6.0. Total = 30\n",
      "Not preferred location penalty : weight = 3, Total = 0\n",
      "Second choice location penalty : weight = 1, Total = 3\n",
      "-------------------------------------------------------------\n",
      "Solution:\n",
      "Tutor A002 has 5 student(s) assigned.\n",
      "Tutor A003 has 5 student(s) assigned.\n",
      "Tutor A005 has 6 student(s) assigned.\n",
      "Tutor A007 has 8 student(s) assigned.\n",
      "Tutor A009 has 4 student(s) assigned.\n",
      "Tutor A010 has 4 student(s) assigned.\n",
      "Student S0001 is assigned to Tutor A002.\n",
      "Student S0002 is assigned to Tutor A010.\n",
      "Student S0003 is assigned to Tutor A005.\n",
      "Student S0004 is assigned to Tutor A007.\n",
      "Student S0005 is assigned to Tutor A009.\n",
      "Student S0006 is assigned to Tutor A009.\n",
      "Student S0007 is assigned to Tutor A007.\n",
      "Student S0008 is assigned to Tutor A009.\n",
      "Student S0009 is assigned to Tutor A005.\n",
      "Student S0010 is assigned to Tutor A003.\n",
      "Student S0011 is assigned to Tutor A009.\n",
      "Student S0012 is assigned to Tutor A003.\n",
      "Student S0013 is assigned to Tutor A010.\n",
      "Student S0014 is assigned to Tutor A002.\n",
      "Student S0015 is assigned to Tutor A007.\n",
      "Student S0016 is assigned to Tutor A002.\n",
      "Student S0017 is assigned to Tutor A002.\n",
      "Student S0018 is assigned to Tutor A003.\n",
      "Student S0019 is assigned to Tutor A003.\n",
      "Student S0020 is assigned to Tutor A002.\n"
     ]
    }
   ],
   "source": [
    "#Print objective penalty breakdown and the solution\n",
    "if s: \n",
    "\t#Get breakdown of each term in the objective\n",
    "    workload_balancing_penalty = c1 * (s.get_value(U) - s.get_value(L))\n",
    "    tutors_used_penalty = c2 * sum(s.get_value(y[j.tutorid]) for j in tutors)\n",
    "    not_preferred_location_penalty = c3 * sum(s.get_value(var) for var in not_preferred_location_terms)\n",
    "    second_choice_location_penalty = c4 * sum(s.get_value(var) for var in second_choice_location_terms)\n",
    "    \n",
    "    #Print breakdown of each term in the objective \n",
    "    print(\"-------------------------------------------------------------\")\n",
    "    print(\"Objective breakdown:\")\n",
    "    print(f\"Total penalty: {s.objective_value}\")\n",
    "    print(f\"Balancing workload : weight = {c1}, U = {int(s.get_value(U))}, L = {int(s.get_value(L))}. Total = {int(workload_balancing_penalty)}\")\n",
    "    print(f\"Tutors used : weight = {c2}, tutors used = {sum(s.get_value(y[j.tutorid]) for j in tutors)}. Total = {int(tutors_used_penalty)}\")\n",
    "    print(f\"Not preferred location penalty : weight = {c3}, Total = {int(not_preferred_location_penalty)}\")\n",
    "    print(f\"Second choice location penalty : weight = {c4}, Total = {int(second_choice_location_penalty)}\") \n",
    "    print(\"-------------------------------------------------------------\")\n",
    "\n",
    "    print(\"Solution:\")\n",
    "    for j in tutors: \n",
    "        if s.get_value(w[j.tutorid]):\n",
    "            print(f\"Tutor {j.tutorid} has {int(s.get_value(w[j.tutorid]))} student(s) assigned.\")\n",
    "    for i in new_students:\n",
    "        for j in tutors:\n",
    "            if s.get_value(x[i.studentid, j.tutorid]):  \n",
    "                print(f\"Student {i.studentid} is assigned to Tutor {j.tutorid}.\")\n",
    "         "
   ]
  },
  {
   "cell_type": "markdown",
   "id": "ea9ed296-f1fc-4b56-a8ab-3803bed484eb",
   "metadata": {},
   "source": [
    "Scenario #2 : Balance tutor’s workload while maximizing tutor’s preference on tuition centre."
   ]
  },
  {
   "cell_type": "code",
   "execution_count": 17,
   "id": "665ec978-5c8b-4883-8def-b241e1f6c618",
   "metadata": {},
   "outputs": [],
   "source": [
    "#-----------------\n",
    "#Define objective\n",
    "#-----------------\n",
    "\n",
    "c1 = 2   #Penalty for not balancing workload\n",
    "c2 = 0    #Penalty for each tutor used \n",
    "c3 = 3    #Penalty for not giving tutors any preferred location \n",
    "c4 = 1    #Penalty for not giving tutors 1st preferred location "
   ]
  },
  {
   "cell_type": "code",
   "execution_count": 18,
   "id": "e1ace484-8339-487e-a2a5-890de1e3f991",
   "metadata": {},
   "outputs": [],
   "source": [
    "#Minimizing the first term (U-L) is to balance workload among tutors assigned\n",
    "m.minimize( c1*(U-L) + c2*tutors_used + c3*(m.sum(not_preferred_location_terms)) + c4*(m.sum(second_choice_location_terms)))"
   ]
  },
  {
   "cell_type": "code",
   "execution_count": 19,
   "id": "af3425b5-1933-4e06-8e4d-a65adf3811fc",
   "metadata": {},
   "outputs": [],
   "source": [
    "#----------------------\n",
    "#For debugging purposes\n",
    "#----------------------\n",
    "\n",
    "if debug_mode: \n",
    "\tm.print_information() \n",
    "\tprint(m.objective_expr)               #To check each of the objective's terms \n",
    "\tfor ct in m.iter_constraints():\n",
    "\t\tprint(ct)                         #To check every constraint  \n",
    "\tfor var in m.iter_variables():\n",
    "\t\tprint(var.name, var.lb, var.ub)   #To check every variable's upper and lower bound "
   ]
  },
  {
   "cell_type": "code",
   "execution_count": 20,
   "id": "f276e29c-aaeb-4ee0-a22e-fc1e75081373",
   "metadata": {},
   "outputs": [
    {
     "name": "stdout",
     "output_type": "stream",
     "text": [
      "objective: 3\n",
      "status: OPTIMAL_SOLUTION(2)\n",
      "  x_S0001_A001=1\n",
      "  x_S0002_A003=1\n",
      "  x_S0003_A009=1\n",
      "  x_S0004_A001=1\n",
      "  x_S0005_A009=1\n",
      "  x_S0006_A001=1\n",
      "  x_S0007_A001=1\n",
      "  x_S0008_A009=1\n",
      "  x_S0009_A002=1\n",
      "  x_S0010_A010=1\n",
      "  x_S0011_A009=1\n",
      "  x_S0012_A003=1\n",
      "  x_S0013_A003=1\n",
      "  x_S0014_A005=1\n",
      "  x_S0015_A001=1\n",
      "  x_S0016_A002=1\n",
      "  x_S0017_A002=1\n",
      "  x_S0018_A010=1\n",
      "  x_S0019_A003=1\n",
      "  x_S0020_A002=1\n",
      "  y_A001=1\n",
      "  y_A002=1\n",
      "  y_A003=1\n",
      "  y_A005=1\n",
      "  y_A007=1\n",
      "  y_A009=1\n",
      "  y_A010=1\n",
      "  w_A001=5\n",
      "  w_A002=4\n",
      "  w_A003=5\n",
      "  w_A005=5\n",
      "  w_A007=5\n",
      "  w_A009=4\n",
      "  w_A010=4\n",
      "  workload_upperbound=5\n",
      "  workload_lowerbound=4\n"
     ]
    }
   ],
   "source": [
    "s = m.solve() \n",
    "m.print_solution()"
   ]
  },
  {
   "cell_type": "code",
   "execution_count": 21,
   "id": "f4df6f6b-74ba-4c83-bf58-8d0ed0061970",
   "metadata": {},
   "outputs": [
    {
     "name": "stdout",
     "output_type": "stream",
     "text": [
      "-------------------------------------------------------------\n",
      "Objective breakdown:\n",
      "Total penalty: 3.0\n",
      "Balancing workload : weight = 2, U = 5, L = 4. Total = 2\n",
      "Tutors used : weight = 0, tutors used = 7.0. Total = 0\n",
      "Not preferred location penalty : weight = 3, Total = 0\n",
      "Second choice location penalty : weight = 1, Total = 1\n",
      "-------------------------------------------------------------\n",
      "Solution:\n",
      "Tutor A001 has 5 student(s) assigned.\n",
      "Tutor A002 has 4 student(s) assigned.\n",
      "Tutor A003 has 5 student(s) assigned.\n",
      "Tutor A005 has 5 student(s) assigned.\n",
      "Tutor A007 has 5 student(s) assigned.\n",
      "Tutor A009 has 4 student(s) assigned.\n",
      "Tutor A010 has 4 student(s) assigned.\n",
      "Student S0001 is assigned to Tutor A001.\n",
      "Student S0002 is assigned to Tutor A003.\n",
      "Student S0003 is assigned to Tutor A009.\n",
      "Student S0004 is assigned to Tutor A001.\n",
      "Student S0005 is assigned to Tutor A009.\n",
      "Student S0006 is assigned to Tutor A001.\n",
      "Student S0007 is assigned to Tutor A001.\n",
      "Student S0008 is assigned to Tutor A009.\n",
      "Student S0009 is assigned to Tutor A002.\n",
      "Student S0010 is assigned to Tutor A010.\n",
      "Student S0011 is assigned to Tutor A009.\n",
      "Student S0012 is assigned to Tutor A003.\n",
      "Student S0013 is assigned to Tutor A003.\n",
      "Student S0014 is assigned to Tutor A005.\n",
      "Student S0015 is assigned to Tutor A001.\n",
      "Student S0016 is assigned to Tutor A002.\n",
      "Student S0017 is assigned to Tutor A002.\n",
      "Student S0018 is assigned to Tutor A010.\n",
      "Student S0019 is assigned to Tutor A003.\n",
      "Student S0020 is assigned to Tutor A002.\n"
     ]
    }
   ],
   "source": [
    "#Print objective penalty breakdown and the solution\n",
    "if s: \n",
    "\t#Get breakdown of each term in the objective\n",
    "    workload_balancing_penalty = c1 * (s.get_value(U) - s.get_value(L))\n",
    "    tutors_used_penalty = c2 * sum(s.get_value(y[j.tutorid]) for j in tutors)\n",
    "    not_preferred_location_penalty = c3 * sum(s.get_value(var) for var in not_preferred_location_terms)\n",
    "    second_choice_location_penalty = c4 * sum(s.get_value(var) for var in second_choice_location_terms)\n",
    "    \n",
    "    #Print breakdown of each term in the objective \n",
    "    print(\"-------------------------------------------------------------\")\n",
    "    print(\"Objective breakdown:\")\n",
    "    print(f\"Total penalty: {s.objective_value}\")\n",
    "    print(f\"Balancing workload : weight = {c1}, U = {int(s.get_value(U))}, L = {int(s.get_value(L))}. Total = {int(workload_balancing_penalty)}\")\n",
    "    print(f\"Tutors used : weight = {c2}, tutors used = {sum(s.get_value(y[j.tutorid]) for j in tutors)}. Total = {int(tutors_used_penalty)}\")\n",
    "    print(f\"Not preferred location penalty : weight = {c3}, Total = {int(not_preferred_location_penalty)}\")\n",
    "    print(f\"Second choice location penalty : weight = {c4}, Total = {int(second_choice_location_penalty)}\") \n",
    "    print(\"-------------------------------------------------------------\")\n",
    "\n",
    "    print(\"Solution:\")\n",
    "    for j in tutors: \n",
    "        if s.get_value(w[j.tutorid]):\n",
    "            print(f\"Tutor {j.tutorid} has {int(s.get_value(w[j.tutorid]))} student(s) assigned.\")\n",
    "    for i in new_students:\n",
    "        for j in tutors:\n",
    "            if s.get_value(x[i.studentid, j.tutorid]):  \n",
    "                print(f\"Student {i.studentid} is assigned to Tutor {j.tutorid}.\")\n",
    "         "
   ]
  },
  {
   "cell_type": "code",
   "execution_count": null,
   "id": "e05f1ad9-b719-4da3-a2cf-37a7e48fafb7",
   "metadata": {},
   "outputs": [],
   "source": []
  }
 ],
 "metadata": {
  "kernelspec": {
   "display_name": "Python 3 (ipykernel)",
   "language": "python",
   "name": "python3"
  },
  "language_info": {
   "codemirror_mode": {
    "name": "ipython",
    "version": 3
   },
   "file_extension": ".py",
   "mimetype": "text/x-python",
   "name": "python",
   "nbconvert_exporter": "python",
   "pygments_lexer": "ipython3",
   "version": "3.10.1"
  }
 },
 "nbformat": 4,
 "nbformat_minor": 5
}
